{
 "cells": [
  {
   "cell_type": "code",
   "execution_count": 1,
   "id": "6303650f-6098-4b47-a772-52ebc7783e61",
   "metadata": {},
   "outputs": [],
   "source": [
    "# imports\n",
    "import pandas as pd\n",
    "import requests\n",
    "import csv\n",
    "from datetime import datetime, timedelta"
   ]
  },
  {
   "cell_type": "code",
   "execution_count": 13,
   "id": "087eaaf0-4fda-4841-bf9b-b0253f5c9d66",
   "metadata": {},
   "outputs": [],
   "source": [
    "year = 2022\n",
    "node = \"SRP_PALOVERDE500-APND\""
   ]
  },
  {
   "cell_type": "code",
   "execution_count": 11,
   "id": "fa5826d9-a38a-45f9-9ef8-15f1ef9f1d8e",
   "metadata": {},
   "outputs": [],
   "source": [
    "month_dict = {'Jan': ['0101', '0131'],\n",
    "              'Feb': ['0201', '0228'],\n",
    "              'Mar': ['0301', '0331'],\n",
    "              'Apr': ['0401', '0430'],\n",
    "              'May': ['0501', '0531'],\n",
    "              'Jun': ['0601', '0630'],\n",
    "              'Jul': ['0701', '0731'],\n",
    "              'Aug': ['0801', '0831'],\n",
    "              'Sep': ['0901', '0930'],\n",
    "              'Oct': ['1001', '1031'],\n",
    "              'Nov': ['1101', '1130'],\n",
    "              'Dec': ['1201', '1231']\n",
    "              }\n",
    "dataframes = []\n",
    "string1= 'http://oasis.caiso.com/oasisapi/SingleZip?resultformat=6&queryname=PRC_LMP&version=12&startdatetime='\n",
    "string2= 'T07:00-0000&enddatetime='\n",
    "string3= 'T07:00-0000&market_run_id=DAM&node='\n"
   ]
  },
  {
   "cell_type": "code",
   "execution_count": 14,
   "id": "ed590a82-f2f4-4304-9aa6-a8046010d750",
   "metadata": {},
   "outputs": [],
   "source": [
    "links = [f\"{string1}{year}{month_dict[month][0]}{string2}{year}{month_dict[month][1]}{string3}{node}\" for month in month_dict.keys()]"
   ]
  },
  {
   "cell_type": "code",
   "execution_count": 15,
   "id": "f82eecbc-9508-4dff-b382-e9af9416bbd0",
   "metadata": {},
   "outputs": [
    {
     "data": {
      "text/plain": [
       "['http://oasis.caiso.com/oasisapi/SingleZip?resultformat=6&queryname=PRC_LMP&version=12&startdatetime=20220101T07:00-0000&enddatetime=20220131T07:00-0000&market_run_id=DAM&node=SRP_PALOVERDE500-APND',\n",
       " 'http://oasis.caiso.com/oasisapi/SingleZip?resultformat=6&queryname=PRC_LMP&version=12&startdatetime=20220201T07:00-0000&enddatetime=20220228T07:00-0000&market_run_id=DAM&node=SRP_PALOVERDE500-APND',\n",
       " 'http://oasis.caiso.com/oasisapi/SingleZip?resultformat=6&queryname=PRC_LMP&version=12&startdatetime=20220301T07:00-0000&enddatetime=20220331T07:00-0000&market_run_id=DAM&node=SRP_PALOVERDE500-APND',\n",
       " 'http://oasis.caiso.com/oasisapi/SingleZip?resultformat=6&queryname=PRC_LMP&version=12&startdatetime=20220401T07:00-0000&enddatetime=20220430T07:00-0000&market_run_id=DAM&node=SRP_PALOVERDE500-APND',\n",
       " 'http://oasis.caiso.com/oasisapi/SingleZip?resultformat=6&queryname=PRC_LMP&version=12&startdatetime=20220501T07:00-0000&enddatetime=20220531T07:00-0000&market_run_id=DAM&node=SRP_PALOVERDE500-APND',\n",
       " 'http://oasis.caiso.com/oasisapi/SingleZip?resultformat=6&queryname=PRC_LMP&version=12&startdatetime=20220601T07:00-0000&enddatetime=20220630T07:00-0000&market_run_id=DAM&node=SRP_PALOVERDE500-APND',\n",
       " 'http://oasis.caiso.com/oasisapi/SingleZip?resultformat=6&queryname=PRC_LMP&version=12&startdatetime=20220701T07:00-0000&enddatetime=20220731T07:00-0000&market_run_id=DAM&node=SRP_PALOVERDE500-APND',\n",
       " 'http://oasis.caiso.com/oasisapi/SingleZip?resultformat=6&queryname=PRC_LMP&version=12&startdatetime=20220801T07:00-0000&enddatetime=20220831T07:00-0000&market_run_id=DAM&node=SRP_PALOVERDE500-APND',\n",
       " 'http://oasis.caiso.com/oasisapi/SingleZip?resultformat=6&queryname=PRC_LMP&version=12&startdatetime=20220901T07:00-0000&enddatetime=20220930T07:00-0000&market_run_id=DAM&node=SRP_PALOVERDE500-APND',\n",
       " 'http://oasis.caiso.com/oasisapi/SingleZip?resultformat=6&queryname=PRC_LMP&version=12&startdatetime=20221001T07:00-0000&enddatetime=20221031T07:00-0000&market_run_id=DAM&node=SRP_PALOVERDE500-APND',\n",
       " 'http://oasis.caiso.com/oasisapi/SingleZip?resultformat=6&queryname=PRC_LMP&version=12&startdatetime=20221101T07:00-0000&enddatetime=20221130T07:00-0000&market_run_id=DAM&node=SRP_PALOVERDE500-APND',\n",
       " 'http://oasis.caiso.com/oasisapi/SingleZip?resultformat=6&queryname=PRC_LMP&version=12&startdatetime=20221201T07:00-0000&enddatetime=20221231T07:00-0000&market_run_id=DAM&node=SRP_PALOVERDE500-APND']"
      ]
     },
     "execution_count": 15,
     "metadata": {},
     "output_type": "execute_result"
    }
   ],
   "source": [
    "links"
   ]
  },
  {
   "cell_type": "code",
   "execution_count": 6,
   "id": "fb59094b-1cf9-42c9-91c8-55e016249683",
   "metadata": {},
   "outputs": [],
   "source": [
    "with open('links.csv', 'w', newline='') as csvfile:\n",
    "    writer = csv.writer(csvfile)\n",
    "    for link in links:\n",
    "        writer.writerow([link])"
   ]
  },
  {
   "cell_type": "code",
   "execution_count": null,
   "id": "043d792d-41c0-4b40-bc90-586e349cf220",
   "metadata": {},
   "outputs": [],
   "source": []
  },
  {
   "cell_type": "code",
   "execution_count": 7,
   "id": "2ed10394-39d3-47a9-bb1f-c524dabcf604",
   "metadata": {},
   "outputs": [
    {
     "data": {
      "text/plain": [
       "['http://oasis.caiso.com/oasisapi/SingleZip?resultformat=6&queryname=PRC_LMP&version=12&startdatetime=20220101T07:00-0000&enddatetime=20220131T07:00-0000&market_run_id=DAM&node=SRP_PALOVERDE500-APND',\n",
       " 'http://oasis.caiso.com/oasisapi/SingleZip?resultformat=6&queryname=PRC_LMP&version=12&startdatetime=20220201T07:00-0000&enddatetime=20220228T07:00-0000&market_run_id=DAM&node=SRP_PALOVERDE500-APND',\n",
       " 'http://oasis.caiso.com/oasisapi/SingleZip?resultformat=6&queryname=PRC_LMP&version=12&startdatetime=20220301T07:00-0000&enddatetime=20220331T07:00-0000&market_run_id=DAM&node=SRP_PALOVERDE500-APND',\n",
       " 'http://oasis.caiso.com/oasisapi/SingleZip?resultformat=6&queryname=PRC_LMP&version=12&startdatetime=20220401T07:00-0000&enddatetime=20220430T07:00-0000&market_run_id=DAM&node=SRP_PALOVERDE500-APND',\n",
       " 'http://oasis.caiso.com/oasisapi/SingleZip?resultformat=6&queryname=PRC_LMP&version=12&startdatetime=20220501T07:00-0000&enddatetime=20220531T07:00-0000&market_run_id=DAM&node=SRP_PALOVERDE500-APND',\n",
       " 'http://oasis.caiso.com/oasisapi/SingleZip?resultformat=6&queryname=PRC_LMP&version=12&startdatetime=20220601T07:00-0000&enddatetime=20220630T07:00-0000&market_run_id=DAM&node=SRP_PALOVERDE500-APND',\n",
       " 'http://oasis.caiso.com/oasisapi/SingleZip?resultformat=6&queryname=PRC_LMP&version=12&startdatetime=20220701T07:00-0000&enddatetime=20220731T07:00-0000&market_run_id=DAM&node=SRP_PALOVERDE500-APND',\n",
       " 'http://oasis.caiso.com/oasisapi/SingleZip?resultformat=6&queryname=PRC_LMP&version=12&startdatetime=20220801T07:00-0000&enddatetime=20220831T07:00-0000&market_run_id=DAM&node=SRP_PALOVERDE500-APND',\n",
       " 'http://oasis.caiso.com/oasisapi/SingleZip?resultformat=6&queryname=PRC_LMP&version=12&startdatetime=20220901T07:00-0000&enddatetime=20220930T07:00-0000&market_run_id=DAM&node=SRP_PALOVERDE500-APND',\n",
       " 'http://oasis.caiso.com/oasisapi/SingleZip?resultformat=6&queryname=PRC_LMP&version=12&startdatetime=20221001T07:00-0000&enddatetime=20221031T07:00-0000&market_run_id=DAM&node=SRP_PALOVERDE500-APND',\n",
       " 'http://oasis.caiso.com/oasisapi/SingleZip?resultformat=6&queryname=PRC_LMP&version=12&startdatetime=20221101T07:00-0000&enddatetime=20221130T07:00-0000&market_run_id=DAM&node=SRP_PALOVERDE500-APND',\n",
       " 'http://oasis.caiso.com/oasisapi/SingleZip?resultformat=6&queryname=PRC_LMP&version=12&startdatetime=20221201T07:00-0000&enddatetime=20221231T07:00-0000&market_run_id=DAM&node=SRP_PALOVERDE500-APND']"
      ]
     },
     "execution_count": 7,
     "metadata": {},
     "output_type": "execute_result"
    }
   ],
   "source": [
    "links"
   ]
  },
  {
   "cell_type": "code",
   "execution_count": 8,
   "id": "7c6402d5-04f0-4373-826d-ef8e6b24c856",
   "metadata": {},
   "outputs": [],
   "source": [
    "import csv\n",
    "import requests\n",
    "import zipfile\n",
    "import io\n",
    "\n",
    "# Define the list of links to ZIP files\n",
    "\n",
    "# Initialize an empty list to store the data from the CSV files\n",
    "data = []\n",
    "\n",
    "# Loop through the ZIP links and retrieve the data from each CSV file\n",
    "for link in links:\n",
    "    response = requests.get(link)\n",
    "    zip_file = zipfile.ZipFile(io.BytesIO(response.content))\n",
    "    for file in zip_file.namelist():\n",
    "        if file.endswith('.csv'):\n",
    "            content = zip_file.read(file)\n",
    "            decoded_content = content.decode('utf-8')\n",
    "            csvreader = csv.reader(decoded_content.splitlines(), delimiter=',')\n",
    "            for row in csvreader:\n",
    "                data.append(row)\n",
    "\n",
    "# Write the data to a new CSV file\n",
    "with open('unfiltered.csv', 'w', newline='', encoding='utf-8') as csvfile:\n",
    "    writer = csv.writer(csvfile)\n",
    "    for row in data:\n",
    "        writer.writerow(row)"
   ]
  },
  {
   "cell_type": "code",
   "execution_count": 9,
   "id": "d7959300-524f-4e22-81ec-54a22ce54287",
   "metadata": {},
   "outputs": [],
   "source": [
    "with open('unfiltered.csv', 'r', newline='', encoding='utf-8') as infile:\n",
    "    reader = csv.reader(infile)\n",
    "\n",
    "    # Get the index of the \"LMP_TYPE\" column\n",
    "    header = next(reader)\n",
    "    lmp_type_index = header.index(\"LMP_TYPE\")\n",
    "\n",
    "    # Filter the rows to only include those where the value in the \"LMP_TYPE\" column is \"LMP\"\n",
    "    filtered_rows = []\n",
    "    for row in reader:\n",
    "        if row[lmp_type_index] == \"LMP\":\n",
    "            filtered_rows.append(row)\n",
    "\n",
    "# Write the filtered rows to a new CSV file\n",
    "with open('filtered.csv', 'w', newline='', encoding='utf-8') as outfile:\n",
    "    writer = csv.writer(outfile)\n",
    "    writer.writerow(header)\n",
    "    writer.writerows(filtered_rows)"
   ]
  }
 ],
 "metadata": {
  "kernelspec": {
   "display_name": "Python 3 (ipykernel)",
   "language": "python",
   "name": "python3"
  },
  "language_info": {
   "codemirror_mode": {
    "name": "ipython",
    "version": 3
   },
   "file_extension": ".py",
   "mimetype": "text/x-python",
   "name": "python",
   "nbconvert_exporter": "python",
   "pygments_lexer": "ipython3",
   "version": "3.9.13"
  }
 },
 "nbformat": 4,
 "nbformat_minor": 5
}
