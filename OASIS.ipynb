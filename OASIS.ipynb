{
 "cells": [
  {
   "cell_type": "code",
   "execution_count": 45,
   "id": "6303650f-6098-4b47-a772-52ebc7783e61",
   "metadata": {},
   "outputs": [],
   "source": [
    "# imports\n",
    "import pandas as pd\n",
    "import requests\n",
    "import csv\n",
    "import time\n",
    "from datetime import datetime, timedelta\n",
    "import zipfile\n",
    "import io"
   ]
  },
  {
   "cell_type": "code",
   "execution_count": 46,
   "id": "087eaaf0-4fda-4841-bf9b-b0253f5c9d66",
   "metadata": {},
   "outputs": [],
   "source": [
    "year = 2022\n",
    "node = \"PALOVRDE_5_N101\""
   ]
  },
  {
   "cell_type": "code",
   "execution_count": 47,
   "id": "fa5826d9-a38a-45f9-9ef8-15f1ef9f1d8e",
   "metadata": {
    "tags": []
   },
   "outputs": [],
   "source": [
    "month_dict = {'Jan': ['0101', '0201'],\n",
    "              'Feb': ['0201', '0301'],\n",
    "              'Mar': ['0301', '0401'],\n",
    "              'Apr': ['0401', '0501'],\n",
    "              'May': ['0501', '0601'],\n",
    "              'Jun': ['0601', '0701'],\n",
    "              'Jul': ['0701', '0801'],\n",
    "              'Aug': ['0801', '0901'],\n",
    "              'Sep': ['0901', '1001'],\n",
    "              'Oct': ['1001', '1101'],\n",
    "              'Nov': ['1101', '1201'],\n",
    "              'Dec': ['1201', '1231']\n",
    "              }\n",
    "dataframes = []\n",
    "string1= 'http://oasis.caiso.com/oasisapi/SingleZip?resultformat=6&queryname=PRC_LMP&version=12&startdatetime='\n",
    "string2= 'T08:00-0000&enddatetime='\n",
    "string3= 'T08:00-0000&market_run_id=DAM&node='\n"
   ]
  },
  {
   "cell_type": "code",
   "execution_count": 48,
   "id": "ed590a82-f2f4-4304-9aa6-a8046010d750",
   "metadata": {},
   "outputs": [],
   "source": [
    "links = [f\"{string1}{year}{month_dict[month][0]}{string2}{year}{month_dict[month][1]}{string3}{node}\" for month in month_dict.keys()]"
   ]
  },
  {
   "cell_type": "code",
   "execution_count": 49,
   "id": "f82eecbc-9508-4dff-b382-e9af9416bbd0",
   "metadata": {},
   "outputs": [
    {
     "data": {
      "text/plain": [
       "['http://oasis.caiso.com/oasisapi/SingleZip?resultformat=6&queryname=PRC_LMP&version=12&startdatetime=20220101T08:00-0000&enddatetime=20220201T08:00-0000&market_run_id=DAM&node=PALOVRDE_5_N101',\n",
       " 'http://oasis.caiso.com/oasisapi/SingleZip?resultformat=6&queryname=PRC_LMP&version=12&startdatetime=20220201T08:00-0000&enddatetime=20220301T08:00-0000&market_run_id=DAM&node=PALOVRDE_5_N101',\n",
       " 'http://oasis.caiso.com/oasisapi/SingleZip?resultformat=6&queryname=PRC_LMP&version=12&startdatetime=20220301T08:00-0000&enddatetime=20220401T08:00-0000&market_run_id=DAM&node=PALOVRDE_5_N101',\n",
       " 'http://oasis.caiso.com/oasisapi/SingleZip?resultformat=6&queryname=PRC_LMP&version=12&startdatetime=20220401T08:00-0000&enddatetime=20220501T08:00-0000&market_run_id=DAM&node=PALOVRDE_5_N101',\n",
       " 'http://oasis.caiso.com/oasisapi/SingleZip?resultformat=6&queryname=PRC_LMP&version=12&startdatetime=20220501T08:00-0000&enddatetime=20220601T08:00-0000&market_run_id=DAM&node=PALOVRDE_5_N101',\n",
       " 'http://oasis.caiso.com/oasisapi/SingleZip?resultformat=6&queryname=PRC_LMP&version=12&startdatetime=20220601T08:00-0000&enddatetime=20220701T08:00-0000&market_run_id=DAM&node=PALOVRDE_5_N101',\n",
       " 'http://oasis.caiso.com/oasisapi/SingleZip?resultformat=6&queryname=PRC_LMP&version=12&startdatetime=20220701T08:00-0000&enddatetime=20220801T08:00-0000&market_run_id=DAM&node=PALOVRDE_5_N101',\n",
       " 'http://oasis.caiso.com/oasisapi/SingleZip?resultformat=6&queryname=PRC_LMP&version=12&startdatetime=20220801T08:00-0000&enddatetime=20220901T08:00-0000&market_run_id=DAM&node=PALOVRDE_5_N101',\n",
       " 'http://oasis.caiso.com/oasisapi/SingleZip?resultformat=6&queryname=PRC_LMP&version=12&startdatetime=20220901T08:00-0000&enddatetime=20221001T08:00-0000&market_run_id=DAM&node=PALOVRDE_5_N101',\n",
       " 'http://oasis.caiso.com/oasisapi/SingleZip?resultformat=6&queryname=PRC_LMP&version=12&startdatetime=20221001T08:00-0000&enddatetime=20221101T08:00-0000&market_run_id=DAM&node=PALOVRDE_5_N101',\n",
       " 'http://oasis.caiso.com/oasisapi/SingleZip?resultformat=6&queryname=PRC_LMP&version=12&startdatetime=20221101T08:00-0000&enddatetime=20221201T08:00-0000&market_run_id=DAM&node=PALOVRDE_5_N101',\n",
       " 'http://oasis.caiso.com/oasisapi/SingleZip?resultformat=6&queryname=PRC_LMP&version=12&startdatetime=20221201T08:00-0000&enddatetime=20221231T08:00-0000&market_run_id=DAM&node=PALOVRDE_5_N101']"
      ]
     },
     "execution_count": 49,
     "metadata": {},
     "output_type": "execute_result"
    }
   ],
   "source": [
    "links"
   ]
  },
  {
   "cell_type": "code",
   "execution_count": 50,
   "id": "fb59094b-1cf9-42c9-91c8-55e016249683",
   "metadata": {},
   "outputs": [],
   "source": [
    "# Creates a CSV file of the input links for future reference\n",
    "with open('links.csv', 'w', newline='') as csvfile:\n",
    "    writer = csv.writer(csvfile)\n",
    "    for link in links:\n",
    "        writer.writerow([link])"
   ]
  },
  {
   "cell_type": "code",
   "execution_count": 32,
   "id": "7c6402d5-04f0-4373-826d-ef8e6b24c856",
   "metadata": {},
   "outputs": [],
   "source": [
    "# Define the list of links to ZIP files\n",
    "# Initialize an empty list to store the data from the CSV files\n",
    "data = []\n",
    "\n",
    "# Loop through the ZIP links and retrieve the data from each CSV file\n",
    "for link in links:\n",
    "    response = requests.get(link)\n",
    "    zip_file = zipfile.ZipFile(io.BytesIO(response.content))\n",
    "    for file in zip_file.namelist():\n",
    "        if file.endswith('.csv'):\n",
    "            content = zip_file.read(file)\n",
    "            decoded_content = content.decode('utf-8')\n",
    "            csvreader = csv.reader(decoded_content.splitlines(), delimiter=',')\n",
    "            for row in csvreader:\n",
    "                data.append(row)\n",
    "    time.sleep(5)\n",
    "\n",
    "# Write the data to a new CSV file\n",
    "with open('unfiltered.csv', 'w', newline='', encoding='utf-8') as csvfile:\n",
    "    writer = csv.writer(csvfile)\n",
    "    for row in data:\n",
    "        writer.writerow(row)"
   ]
  },
  {
   "cell_type": "code",
   "execution_count": 36,
   "id": "cb252a0e-4cda-46c3-9915-28bbe8950f6f",
   "metadata": {},
   "outputs": [],
   "source": [
    "# Open the input CSV file and read the rows\n",
    "with open('unfiltered.csv', 'r', newline='', encoding='utf-8') as infile:\n",
    "    reader = csv.reader(infile)\n",
    "\n",
    "    # Get the index of the \"LMP_TYPE\", \"OPR_DT\", and \"OPR_HR\" columns\n",
    "    header = next(reader)\n",
    "    lmp_type_index = header.index(\"LMP_TYPE\")\n",
    "    opr_dt_index = header.index(\"OPR_DT\")\n",
    "    opr_hr_index = header.index(\"OPR_HR\")\n",
    "\n",
    "    # Filter the rows to only include those where the value in the \"LMP_TYPE\" column is \"LMP\"\n",
    "    filtered_rows = []\n",
    "    for row in reader:\n",
    "        if row[lmp_type_index] == \"LMP\":\n",
    "            filtered_rows.append(row)\n",
    "\n",
    "    # Convert the \"OPR_HR\" column values to integers and sort the filtered rows by \"OPR_DT\" and then by \"OPR_HR\"\n",
    "    sorted_rows = sorted(filtered_rows, key=lambda x: (x[opr_dt_index], int(x[opr_hr_index])))\n",
    "\n",
    "# Write the sorted rows to a new CSV file\n",
    "with open('filtered_sorted.csv', 'w', newline='', encoding='utf-8') as outfile:\n",
    "    writer = csv.writer(outfile)\n",
    "    writer.writerow(header)\n",
    "    writer.writerows(sorted_rows)"
   ]
  }
 ],
 "metadata": {
  "kernelspec": {
   "display_name": "Python 3 (ipykernel)",
   "language": "python",
   "name": "python3"
  },
  "language_info": {
   "codemirror_mode": {
    "name": "ipython",
    "version": 3
   },
   "file_extension": ".py",
   "mimetype": "text/x-python",
   "name": "python",
   "nbconvert_exporter": "python",
   "pygments_lexer": "ipython3",
   "version": "3.9.13"
  }
 },
 "nbformat": 4,
 "nbformat_minor": 5
}
